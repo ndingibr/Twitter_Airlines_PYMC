{
 "cells": [
  {
   "cell_type": "code",
   "execution_count": 66,
   "id": "4ab8e548",
   "metadata": {},
   "outputs": [],
   "source": [
    "import tempfile\n",
    "import zipfile\n",
    "import sqlite3\n",
    "import json\n",
    "import os\n",
    "import matplotlib.pyplot as plt\n",
    "from sklearn.preprocessing import LabelEncoder\n",
    "import pymc as pm\n",
    "import pandas as pd\n",
    "from sklearn import preprocessing"
   ]
  },
  {
   "cell_type": "markdown",
   "id": "16e9fc40-8cef-4e86-9245-7c3168cf3154",
   "metadata": {},
   "source": [
    "### Problem Statement"
   ]
  },
  {
   "cell_type": "markdown",
   "id": "4b84ad44-73ef-435d-bfd2-6db2c28fea6c",
   "metadata": {},
   "source": [
    "We aim to develop a model for estimating the negativereason_confidence of airlines, as well as the overall dataset. This constitutes a hierarchical or multilevel model, grounded in the assumption that different airlines exhibit distinct negativereason_confidence. Consequently, we decide to independently model each airline, estimating parameters μ and α for every airline. The parameter μ signifies the general mean or baseline confidence level applicable to all airlines, while α captures the deviation or specific effect unique to each airline. By integrating both μ and α into the model, we explicitly acknowledge the shared characteristics across all airlines and the individual nuances specific to each airline when predicting negativereason_confidence."
   ]
  },
  {
   "cell_type": "markdown",
   "id": "180343b5-7136-403c-a50e-a76ab6ea325f",
   "metadata": {},
   "source": [
    "#### Data Exploration"
   ]
  },
  {
   "cell_type": "markdown",
   "id": "9f2156f3",
   "metadata": {},
   "source": [
    "The code below The code snippet below creates a temporary directory, extracts a CSV file ('Tweets.csv') from a ZIP archive ('Tweets.csv.zip'), reads it into a Pandas DataFrame (df_csv), and displays the first 5 records using the head() method. "
   ]
  },
  {
   "cell_type": "code",
   "execution_count": 12,
   "id": "bcb5d543",
   "metadata": {},
   "outputs": [
    {
     "data": {
      "text/html": [
       "<div>\n",
       "<style scoped>\n",
       "    .dataframe tbody tr th:only-of-type {\n",
       "        vertical-align: middle;\n",
       "    }\n",
       "\n",
       "    .dataframe tbody tr th {\n",
       "        vertical-align: top;\n",
       "    }\n",
       "\n",
       "    .dataframe thead th {\n",
       "        text-align: right;\n",
       "    }\n",
       "</style>\n",
       "<table border=\"1\" class=\"dataframe\">\n",
       "  <thead>\n",
       "    <tr style=\"text-align: right;\">\n",
       "      <th></th>\n",
       "      <th>tweet_id</th>\n",
       "      <th>airline_sentiment</th>\n",
       "      <th>airline_sentiment_confidence</th>\n",
       "      <th>negativereason</th>\n",
       "      <th>negativereason_confidence</th>\n",
       "      <th>airline</th>\n",
       "      <th>airline_sentiment_gold</th>\n",
       "      <th>name</th>\n",
       "      <th>negativereason_gold</th>\n",
       "      <th>retweet_count</th>\n",
       "      <th>text</th>\n",
       "      <th>tweet_coord</th>\n",
       "      <th>tweet_created</th>\n",
       "      <th>tweet_location</th>\n",
       "      <th>user_timezone</th>\n",
       "    </tr>\n",
       "  </thead>\n",
       "  <tbody>\n",
       "    <tr>\n",
       "      <th>0</th>\n",
       "      <td>570306133677760513</td>\n",
       "      <td>neutral</td>\n",
       "      <td>1.0000</td>\n",
       "      <td>NaN</td>\n",
       "      <td>NaN</td>\n",
       "      <td>Virgin America</td>\n",
       "      <td>NaN</td>\n",
       "      <td>cairdin</td>\n",
       "      <td>NaN</td>\n",
       "      <td>0</td>\n",
       "      <td>@VirginAmerica What @dhepburn said.</td>\n",
       "      <td>NaN</td>\n",
       "      <td>2015-02-24 11:35:52 -0800</td>\n",
       "      <td>NaN</td>\n",
       "      <td>Eastern Time (US &amp; Canada)</td>\n",
       "    </tr>\n",
       "    <tr>\n",
       "      <th>1</th>\n",
       "      <td>570301130888122368</td>\n",
       "      <td>positive</td>\n",
       "      <td>0.3486</td>\n",
       "      <td>NaN</td>\n",
       "      <td>0.0000</td>\n",
       "      <td>Virgin America</td>\n",
       "      <td>NaN</td>\n",
       "      <td>jnardino</td>\n",
       "      <td>NaN</td>\n",
       "      <td>0</td>\n",
       "      <td>@VirginAmerica plus you've added commercials t...</td>\n",
       "      <td>NaN</td>\n",
       "      <td>2015-02-24 11:15:59 -0800</td>\n",
       "      <td>NaN</td>\n",
       "      <td>Pacific Time (US &amp; Canada)</td>\n",
       "    </tr>\n",
       "    <tr>\n",
       "      <th>2</th>\n",
       "      <td>570301083672813571</td>\n",
       "      <td>neutral</td>\n",
       "      <td>0.6837</td>\n",
       "      <td>NaN</td>\n",
       "      <td>NaN</td>\n",
       "      <td>Virgin America</td>\n",
       "      <td>NaN</td>\n",
       "      <td>yvonnalynn</td>\n",
       "      <td>NaN</td>\n",
       "      <td>0</td>\n",
       "      <td>@VirginAmerica I didn't today... Must mean I n...</td>\n",
       "      <td>NaN</td>\n",
       "      <td>2015-02-24 11:15:48 -0800</td>\n",
       "      <td>Lets Play</td>\n",
       "      <td>Central Time (US &amp; Canada)</td>\n",
       "    </tr>\n",
       "    <tr>\n",
       "      <th>3</th>\n",
       "      <td>570301031407624196</td>\n",
       "      <td>negative</td>\n",
       "      <td>1.0000</td>\n",
       "      <td>Bad Flight</td>\n",
       "      <td>0.7033</td>\n",
       "      <td>Virgin America</td>\n",
       "      <td>NaN</td>\n",
       "      <td>jnardino</td>\n",
       "      <td>NaN</td>\n",
       "      <td>0</td>\n",
       "      <td>@VirginAmerica it's really aggressive to blast...</td>\n",
       "      <td>NaN</td>\n",
       "      <td>2015-02-24 11:15:36 -0800</td>\n",
       "      <td>NaN</td>\n",
       "      <td>Pacific Time (US &amp; Canada)</td>\n",
       "    </tr>\n",
       "    <tr>\n",
       "      <th>4</th>\n",
       "      <td>570300817074462722</td>\n",
       "      <td>negative</td>\n",
       "      <td>1.0000</td>\n",
       "      <td>Can't Tell</td>\n",
       "      <td>1.0000</td>\n",
       "      <td>Virgin America</td>\n",
       "      <td>NaN</td>\n",
       "      <td>jnardino</td>\n",
       "      <td>NaN</td>\n",
       "      <td>0</td>\n",
       "      <td>@VirginAmerica and it's a really big bad thing...</td>\n",
       "      <td>NaN</td>\n",
       "      <td>2015-02-24 11:14:45 -0800</td>\n",
       "      <td>NaN</td>\n",
       "      <td>Pacific Time (US &amp; Canada)</td>\n",
       "    </tr>\n",
       "  </tbody>\n",
       "</table>\n",
       "</div>"
      ],
      "text/plain": [
       "             tweet_id airline_sentiment  airline_sentiment_confidence  \\\n",
       "0  570306133677760513           neutral                        1.0000   \n",
       "1  570301130888122368          positive                        0.3486   \n",
       "2  570301083672813571           neutral                        0.6837   \n",
       "3  570301031407624196          negative                        1.0000   \n",
       "4  570300817074462722          negative                        1.0000   \n",
       "\n",
       "  negativereason  negativereason_confidence         airline  \\\n",
       "0            NaN                        NaN  Virgin America   \n",
       "1            NaN                     0.0000  Virgin America   \n",
       "2            NaN                        NaN  Virgin America   \n",
       "3     Bad Flight                     0.7033  Virgin America   \n",
       "4     Can't Tell                     1.0000  Virgin America   \n",
       "\n",
       "  airline_sentiment_gold        name negativereason_gold  retweet_count  \\\n",
       "0                    NaN     cairdin                 NaN              0   \n",
       "1                    NaN    jnardino                 NaN              0   \n",
       "2                    NaN  yvonnalynn                 NaN              0   \n",
       "3                    NaN    jnardino                 NaN              0   \n",
       "4                    NaN    jnardino                 NaN              0   \n",
       "\n",
       "                                                text tweet_coord  \\\n",
       "0                @VirginAmerica What @dhepburn said.         NaN   \n",
       "1  @VirginAmerica plus you've added commercials t...         NaN   \n",
       "2  @VirginAmerica I didn't today... Must mean I n...         NaN   \n",
       "3  @VirginAmerica it's really aggressive to blast...         NaN   \n",
       "4  @VirginAmerica and it's a really big bad thing...         NaN   \n",
       "\n",
       "               tweet_created tweet_location               user_timezone  \n",
       "0  2015-02-24 11:35:52 -0800            NaN  Eastern Time (US & Canada)  \n",
       "1  2015-02-24 11:15:59 -0800            NaN  Pacific Time (US & Canada)  \n",
       "2  2015-02-24 11:15:48 -0800      Lets Play  Central Time (US & Canada)  \n",
       "3  2015-02-24 11:15:36 -0800            NaN  Pacific Time (US & Canada)  \n",
       "4  2015-02-24 11:14:45 -0800            NaN  Pacific Time (US & Canada)  "
      ]
     },
     "execution_count": 12,
     "metadata": {},
     "output_type": "execute_result"
    }
   ],
   "source": [
    "# Create a temporary directory for extracting the contents\n",
    "temp_dir = tempfile.mkdtemp()\n",
    "\n",
    "#Identify the zip file\n",
    "zip_file_path = 'Tweets.csv.zip'\n",
    "\n",
    "#Identify the csv file\n",
    "csv_file_name = 'Tweets.csv'\n",
    "# Join the temporary directory path with the CSV file name\n",
    "csv_file_path = os.path.join(temp_dir, csv_file_name)\n",
    "\n",
    "# Extract the CSV file from the ZIP archive\n",
    "with zipfile.ZipFile(zip_file_path, 'r') as zip_ref:\n",
    "    zip_ref.extract(csv_file_name, path=temp_dir)\n",
    "\n",
    "# Read the CSV file into a Pandas DataFrame\n",
    "df_csv = pd.read_csv(csv_file_path)\n",
    "\n",
    "# Check the first 5 records\n",
    "df_csv.head()"
   ]
  },
  {
   "cell_type": "markdown",
   "id": "9c149d1e",
   "metadata": {},
   "source": [
    "The code snippet below extracts an SQLite database file from a ZIP archive, connects to the database, executes a SQL query to retrieve data into a Pandas DataFrame (df_sqlite), and closes the database connection. The last line displays the first few rows of the DataFrame."
   ]
  },
  {
   "cell_type": "code",
   "execution_count": 10,
   "id": "1d51ab2b",
   "metadata": {},
   "outputs": [
    {
     "data": {
      "text/html": [
       "<div>\n",
       "<style scoped>\n",
       "    .dataframe tbody tr th:only-of-type {\n",
       "        vertical-align: middle;\n",
       "    }\n",
       "\n",
       "    .dataframe tbody tr th {\n",
       "        vertical-align: top;\n",
       "    }\n",
       "\n",
       "    .dataframe thead th {\n",
       "        text-align: right;\n",
       "    }\n",
       "</style>\n",
       "<table border=\"1\" class=\"dataframe\">\n",
       "  <thead>\n",
       "    <tr style=\"text-align: right;\">\n",
       "      <th></th>\n",
       "      <th>tweet_id</th>\n",
       "      <th>airline_sentiment</th>\n",
       "      <th>airline_sentiment_confidence</th>\n",
       "      <th>negativereason</th>\n",
       "      <th>negativereason_confidence</th>\n",
       "      <th>airline</th>\n",
       "      <th>airline_sentiment_gold</th>\n",
       "      <th>name</th>\n",
       "      <th>negativereason_gold</th>\n",
       "      <th>retweet_count</th>\n",
       "      <th>text</th>\n",
       "      <th>tweet_coord</th>\n",
       "      <th>tweet_created</th>\n",
       "      <th>tweet_location</th>\n",
       "      <th>user_timezone</th>\n",
       "    </tr>\n",
       "  </thead>\n",
       "  <tbody>\n",
       "    <tr>\n",
       "      <th>0</th>\n",
       "      <td>567588278875213824</td>\n",
       "      <td>neutral</td>\n",
       "      <td>1.0</td>\n",
       "      <td></td>\n",
       "      <td></td>\n",
       "      <td>Delta</td>\n",
       "      <td></td>\n",
       "      <td>JetBlueNews</td>\n",
       "      <td></td>\n",
       "      <td>0</td>\n",
       "      <td>@JetBlue's new CEO seeks the right balance to ...</td>\n",
       "      <td></td>\n",
       "      <td>2015-02-16 23:36:05 -0800</td>\n",
       "      <td>USA</td>\n",
       "      <td>Sydney</td>\n",
       "    </tr>\n",
       "    <tr>\n",
       "      <th>1</th>\n",
       "      <td>567590027375702016</td>\n",
       "      <td>negative</td>\n",
       "      <td>1.0</td>\n",
       "      <td>Can't Tell</td>\n",
       "      <td>0.6503</td>\n",
       "      <td>Delta</td>\n",
       "      <td></td>\n",
       "      <td>nesi_1992</td>\n",
       "      <td></td>\n",
       "      <td>0</td>\n",
       "      <td>@JetBlue is REALLY getting on my nerves !! 😡😡 ...</td>\n",
       "      <td></td>\n",
       "      <td>2015-02-16 23:43:02 -0800</td>\n",
       "      <td>undecided</td>\n",
       "      <td>Pacific Time (US &amp; Canada)</td>\n",
       "    </tr>\n",
       "    <tr>\n",
       "      <th>2</th>\n",
       "      <td>567591480085463040</td>\n",
       "      <td>negative</td>\n",
       "      <td>1.0</td>\n",
       "      <td>Late Flight</td>\n",
       "      <td>0.346</td>\n",
       "      <td>United</td>\n",
       "      <td></td>\n",
       "      <td>CPoutloud</td>\n",
       "      <td></td>\n",
       "      <td>0</td>\n",
       "      <td>@united yes. We waited in line for almost an h...</td>\n",
       "      <td></td>\n",
       "      <td>2015-02-16 23:48:48 -0800</td>\n",
       "      <td>Washington, DC</td>\n",
       "      <td></td>\n",
       "    </tr>\n",
       "    <tr>\n",
       "      <th>3</th>\n",
       "      <td>567592368451248130</td>\n",
       "      <td>negative</td>\n",
       "      <td>1.0</td>\n",
       "      <td>Late Flight</td>\n",
       "      <td>1</td>\n",
       "      <td>United</td>\n",
       "      <td></td>\n",
       "      <td>brenduch</td>\n",
       "      <td></td>\n",
       "      <td>0</td>\n",
       "      <td>@united the we got into the gate at IAH on tim...</td>\n",
       "      <td></td>\n",
       "      <td>2015-02-16 23:52:20 -0800</td>\n",
       "      <td></td>\n",
       "      <td>Buenos Aires</td>\n",
       "    </tr>\n",
       "    <tr>\n",
       "      <th>4</th>\n",
       "      <td>567594449874587648</td>\n",
       "      <td>negative</td>\n",
       "      <td>1.0</td>\n",
       "      <td>Customer Service Issue</td>\n",
       "      <td>0.3451</td>\n",
       "      <td>Southwest</td>\n",
       "      <td></td>\n",
       "      <td>VahidESQ</td>\n",
       "      <td></td>\n",
       "      <td>0</td>\n",
       "      <td>@SouthwestAir its cool that my bags take a bit...</td>\n",
       "      <td></td>\n",
       "      <td>2015-02-17 00:00:36 -0800</td>\n",
       "      <td>Los Angeles, CA</td>\n",
       "      <td>Pacific Time (US &amp; Canada)</td>\n",
       "    </tr>\n",
       "  </tbody>\n",
       "</table>\n",
       "</div>"
      ],
      "text/plain": [
       "             tweet_id airline_sentiment  airline_sentiment_confidence  \\\n",
       "0  567588278875213824           neutral                           1.0   \n",
       "1  567590027375702016          negative                           1.0   \n",
       "2  567591480085463040          negative                           1.0   \n",
       "3  567592368451248130          negative                           1.0   \n",
       "4  567594449874587648          negative                           1.0   \n",
       "\n",
       "           negativereason negativereason_confidence    airline  \\\n",
       "0                                                        Delta   \n",
       "1              Can't Tell                    0.6503      Delta   \n",
       "2             Late Flight                     0.346     United   \n",
       "3             Late Flight                         1     United   \n",
       "4  Customer Service Issue                    0.3451  Southwest   \n",
       "\n",
       "  airline_sentiment_gold         name negativereason_gold  retweet_count  \\\n",
       "0                         JetBlueNews                                  0   \n",
       "1                           nesi_1992                                  0   \n",
       "2                           CPoutloud                                  0   \n",
       "3                            brenduch                                  0   \n",
       "4                            VahidESQ                                  0   \n",
       "\n",
       "                                                text tweet_coord  \\\n",
       "0  @JetBlue's new CEO seeks the right balance to ...               \n",
       "1  @JetBlue is REALLY getting on my nerves !! 😡😡 ...               \n",
       "2  @united yes. We waited in line for almost an h...               \n",
       "3  @united the we got into the gate at IAH on tim...               \n",
       "4  @SouthwestAir its cool that my bags take a bit...               \n",
       "\n",
       "               tweet_created   tweet_location               user_timezone  \n",
       "0  2015-02-16 23:36:05 -0800              USA                      Sydney  \n",
       "1  2015-02-16 23:43:02 -0800        undecided  Pacific Time (US & Canada)  \n",
       "2  2015-02-16 23:48:48 -0800   Washington, DC                              \n",
       "3  2015-02-16 23:52:20 -0800                                 Buenos Aires  \n",
       "4  2015-02-17 00:00:36 -0800  Los Angeles, CA  Pacific Time (US & Canada)  "
      ]
     },
     "execution_count": 10,
     "metadata": {},
     "output_type": "execute_result"
    }
   ],
   "source": [
    "# Specify the path to the ZIP file containing the SQLite database\n",
    "zip_file_path = 'database.sqlite.zip'\n",
    "\n",
    "# Specify the name of the SQLite database file within the ZIP archive\n",
    "sqlite_db_file_name = 'database.sqlite'\n",
    "\n",
    "# Create a temporary directory for extracting the contents\n",
    "temp_dir = tempfile.mkdtemp()\n",
    "\n",
    "# Join the temporary directory path with the SQLite database file name\n",
    "sqlite_db_file_path = os.path.join(temp_dir, sqlite_db_file_name)\n",
    "\n",
    "# Extract the SQLite database file from the ZIP archive\n",
    "with zipfile.ZipFile(zip_file_path, 'r') as zip_ref:\n",
    "    zip_ref.extract(sqlite_db_file_name, path=temp_dir)\n",
    "\n",
    "# Connect to the SQLite database\n",
    "conn = sqlite3.connect(sqlite_db_file_path)\n",
    "\n",
    "# Now you can execute SQL queries and retrieve data using Pandas\n",
    "query = \"SELECT * FROM tweets\"  \n",
    "df_sqlite = pd.read_sql_query(query, conn)\n",
    "\n",
    "# Close the database connection\n",
    "conn.close()\n",
    "\n",
    "# Now 'df' contains your data, and you can perform various operations on it\n",
    "# For example, you can display the first few rows of the DataFrame using:\n",
    "df_sqlite.head()"
   ]
  },
  {
   "cell_type": "code",
   "execution_count": 13,
   "id": "1da1569c",
   "metadata": {},
   "outputs": [
    {
     "name": "stdout",
     "output_type": "stream",
     "text": [
      "Are the DataFrames equal? False\n"
     ]
    }
   ],
   "source": [
    "# Compare the DataFrames\n",
    "are_equal = df_csv.equals(df_sqlite)\n",
    "\n",
    "# Print the result\n",
    "print(f\"Are the DataFrames equal? {are_equal}\")"
   ]
  },
  {
   "cell_type": "code",
   "execution_count": 14,
   "id": "c73da642",
   "metadata": {},
   "outputs": [
    {
     "name": "stdout",
     "output_type": "stream",
     "text": [
      "Length of df_csv: 14640\n",
      "Length of df_sqlite: 14485\n"
     ]
    }
   ],
   "source": [
    "# Compare the lengths\n",
    "length_csv = len(df_csv)\n",
    "length_sqlite = len(df_sqlite)\n",
    "\n",
    "# Display the lengths\n",
    "print(f\"Length of df_csv: {length_csv}\")\n",
    "print(f\"Length of df_sqlite: {length_sqlite}\")"
   ]
  },
  {
   "cell_type": "code",
   "execution_count": 15,
   "id": "906ca66c",
   "metadata": {},
   "outputs": [
    {
     "name": "stdout",
     "output_type": "stream",
     "text": [
      "\n",
      "Count of Missing Values:\n",
      "tweet_id                            0\n",
      "airline_sentiment                   0\n",
      "airline_sentiment_confidence        0\n",
      "negativereason                   5462\n",
      "negativereason_confidence        4118\n",
      "airline                             0\n",
      "airline_sentiment_gold          14600\n",
      "name                                0\n",
      "negativereason_gold             14608\n",
      "retweet_count                       0\n",
      "text                                0\n",
      "tweet_coord                     13621\n",
      "tweet_created                       0\n",
      "tweet_location                   4733\n",
      "user_timezone                    4820\n",
      "dtype: int64\n"
     ]
    }
   ],
   "source": [
    "# Count the missing values (blanks) in each column\n",
    "missing_values = df_csv.isnull().sum()\n",
    "\n",
    "# Display the count of missing values\n",
    "print(\"\\nCount of Missing Values:\")\n",
    "print(missing_values)"
   ]
  },
  {
   "cell_type": "code",
   "execution_count": 16,
   "id": "010cc30a",
   "metadata": {},
   "outputs": [
    {
     "name": "stdout",
     "output_type": "stream",
     "text": [
      "\n",
      "Count of Missing Values:\n",
      "tweet_id                        0\n",
      "airline_sentiment               0\n",
      "airline_sentiment_confidence    0\n",
      "negativereason                  0\n",
      "negativereason_confidence       0\n",
      "airline                         0\n",
      "airline_sentiment_gold          0\n",
      "name                            0\n",
      "negativereason_gold             0\n",
      "retweet_count                   0\n",
      "text                            0\n",
      "tweet_coord                     0\n",
      "tweet_created                   0\n",
      "tweet_location                  0\n",
      "user_timezone                   0\n",
      "dtype: int64\n"
     ]
    }
   ],
   "source": [
    "# Count the missing values (blanks) in each column\n",
    "missing_values = df_sqlite.isnull().sum()\n",
    "\n",
    "# Display the count of missing values\n",
    "print(\"\\nCount of Missing Values:\")\n",
    "print(missing_values)"
   ]
  },
  {
   "cell_type": "markdown",
   "id": "beb23e0c",
   "metadata": {},
   "source": [
    "#df_sqlite & df_csv contain the same fields and are almost the same length, but df_sqlite seem to less blank fields, so we will conside using it going forward"
   ]
  },
  {
   "cell_type": "code",
   "execution_count": 17,
   "id": "7be6235d",
   "metadata": {},
   "outputs": [],
   "source": [
    "#We will use df_sqlite going foward\n",
    "df = df_sqlite"
   ]
  },
  {
   "cell_type": "code",
   "execution_count": 18,
   "id": "2b1cf254",
   "metadata": {},
   "outputs": [],
   "source": [
    "# Filter out rows where 'airline_sentiment' is either 'positive' or 'neutral' as they don't hold much information\n",
    "df = df[(df['airline_sentiment'] != 'positive') & (df['airline_sentiment'] != 'neutral')]"
   ]
  },
  {
   "cell_type": "code",
   "execution_count": 19,
   "id": "e512a14c",
   "metadata": {},
   "outputs": [
    {
     "data": {
      "text/plain": [
       "Index(['tweet_id', 'airline_sentiment', 'airline_sentiment_confidence',\n",
       "       'negativereason', 'negativereason_confidence', 'airline',\n",
       "       'airline_sentiment_gold', 'name', 'negativereason_gold',\n",
       "       'retweet_count', 'text', 'tweet_coord', 'tweet_created',\n",
       "       'tweet_location', 'user_timezone'],\n",
       "      dtype='object')"
      ]
     },
     "execution_count": 19,
     "metadata": {},
     "output_type": "execute_result"
    }
   ],
   "source": [
    "df.columns"
   ]
  },
  {
   "cell_type": "code",
   "execution_count": 20,
   "id": "812433d2",
   "metadata": {},
   "outputs": [],
   "source": [
    "df = df[['tweet_id','airline_sentiment', 'negativereason', 'negativereason_confidence', 'retweet_count', 'airline']]"
   ]
  },
  {
   "cell_type": "code",
   "execution_count": 22,
   "id": "4b7a6f44",
   "metadata": {},
   "outputs": [
    {
     "name": "stdout",
     "output_type": "stream",
     "text": [
      "           tweet_id  retweet_count\n",
      "count  9.082000e+03    9082.000000\n",
      "mean   5.692498e+17       0.094142\n",
      "std    7.542552e+14       0.796874\n",
      "min    5.675900e+17       0.000000\n",
      "25%    5.686372e+17       0.000000\n",
      "50%    5.695281e+17       0.000000\n",
      "75%    5.698695e+17       0.000000\n",
      "max    5.703106e+17      44.000000\n"
     ]
    }
   ],
   "source": [
    "# Display summary statistics for numeric columns\n",
    "numeric_summary = df.describe()\n",
    "\n",
    "# Display the summary\n",
    "print(numeric_summary)"
   ]
  },
  {
   "cell_type": "code",
   "execution_count": 23,
   "id": "a6034e8f",
   "metadata": {},
   "outputs": [
    {
     "name": "stdout",
     "output_type": "stream",
     "text": [
      "Length of the data: 9082\n",
      "\n",
      "Number of missing values in each column:\n",
      "tweet_id                     0\n",
      "airline_sentiment            0\n",
      "negativereason               0\n",
      "negativereason_confidence    0\n",
      "retweet_count                0\n",
      "airline                      0\n",
      "dtype: int64\n"
     ]
    }
   ],
   "source": [
    "# Check the length of the data\n",
    "data_length = len(df)\n",
    "print(f\"Length of the data: {data_length}\")\n",
    "\n",
    "# Check for missing values in each column\n",
    "missing_values = df.isnull().sum()\n",
    "print(\"\\nNumber of missing values in each column:\")\n",
    "print(missing_values)"
   ]
  },
  {
   "cell_type": "markdown",
   "id": "9e7506d1-61f4-4fb1-83b2-88b67df91c30",
   "metadata": {},
   "source": [
    "### Modeling"
   ]
  },
  {
   "cell_type": "markdown",
   "id": "951ecd00",
   "metadata": {},
   "source": [
    "The sample sizes (number of tweets) differ for each airline, see graph below. In statistical modeling, especially in the context of regression or hierarchical models, the precision of estimates is often linked to the sample size. Larger sample sizes generally lead to more precise estimates with lower standard errors, while smaller sample sizes can result in more uncertain estimates. If we are using a Bayesian approach, the uncertainty in your estimates can be explicitly modeled. Bayesian models can naturally handle situations with varying sample sizes and provide credible intervals that reflect the uncertainty in our parameter estimates."
   ]
  },
  {
   "cell_type": "code",
   "execution_count": 24,
   "id": "a96aa418",
   "metadata": {},
   "outputs": [
    {
     "data": {
      "image/png": "[encoded data removed]",
      "text/plain": [
       "<Figure size 1000x600 with 1 Axes>"
      ]
     },
     "metadata": {},
     "output_type": "display_data"
    }
   ],
   "source": [
    "# Plotting\n",
    "plt.figure(figsize=(10, 6))\n",
    "plt.bar(df['airline'], df['retweet_count'], color='skyblue')\n",
    "plt.title('Number of Tweets per Airline')\n",
    "plt.xlabel('Airline')\n",
    "plt.ylabel('Number of Tweets')\n",
    "plt.show()"
   ]
  },
  {
   "cell_type": "markdown",
   "id": "4b985e08",
   "metadata": {},
   "source": [
    "This code creates a histogram to visualize the distribution of the 'negativereason_confidence' column in the DataFrame (df)."
   ]
  },
  {
   "cell_type": "code",
   "execution_count": 25,
   "id": "3d18a0b6",
   "metadata": {},
   "outputs": [
    {
     "data": {
      "image/png": "[encoded data removed]",
      "text/plain": [
       "<Figure size 1000x600 with 1 Axes>"
      ]
     },
     "metadata": {},
     "output_type": "display_data"
    }
   ],
   "source": [
    "# Plotting the distribution of 'negativereason_confidence'\n",
    "plt.figure(figsize=(10, 6))\n",
    "plt.hist(df['negativereason_confidence'].dropna(), bins=40, color='skyblue', edgecolor='black')\n",
    "plt.title('Distribution of negativereason_confidence')\n",
    "plt.xlabel('negativereason_confidence')\n",
    "plt.ylabel('Frequency')\n",
    "plt.show()"
   ]
  },
  {
   "cell_type": "markdown",
   "id": "b8892647",
   "metadata": {},
   "source": [
    "Bayesian modeling each airline with positive binomial distribution"
   ]
  },
  {
   "cell_type": "code",
   "execution_count": 50,
   "id": "0a410381",
   "metadata": {},
   "outputs": [
    {
     "data": {
      "text/plain": [
       "Index(['tweet_id', 'airline_sentiment', 'negativereason',\n",
       "       'negativereason_confidence', 'retweet_count', 'airline', 'airline_id'],\n",
       "      dtype='object')"
      ]
     },
     "execution_count": 50,
     "metadata": {},
     "output_type": "execute_result"
    }
   ],
   "source": [
    "df.columns"
   ]
  },
  {
   "cell_type": "markdown",
   "id": "7dd712be-a54d-47af-b13b-ebc6cadd60db",
   "metadata": {},
   "source": [
    "This code snippet encodes the 'airline' column using LabelEncoder, defines a hierarchical Bayesian model using PyMC3, samples from the posterior distribution using MCMC, and finally plots the posterior distributions of selected parameters. It is a comprehensive approach to modeling the relationship between airline-specific features and negativereason_confidence and retweet_count using Bayesian techniques. "
   ]
  },
  {
   "cell_type": "code",
   "execution_count": 93,
   "id": "aa75976d",
   "metadata": {},
   "outputs": [
    {
     "name": "stderr",
     "output_type": "stream",
     "text": [
      "Multiprocess sampling (4 chains in 4 jobs)\n",
      "CompoundStep\n",
      ">NUTS: [α, μ]\n",
      ">Metropolis: [y_pred]\n"
     ]
    },
    {
     "data": {
      "text/html": [
       "\n",
       "<style>\n",
       "    /* Turns off some styling */\n",
       "    progress {\n",
       "        /* gets rid of default border in Firefox and Opera. */\n",
       "        border: none;\n",
       "        /* Needs to be in here for Safari polyfill so background images work as expected. */\n",
       "        background-size: auto;\n",
       "    }\n",
       "    progress:not([value]), progress:not([value])::-webkit-progress-bar {\n",
       "        background: repeating-linear-gradient(45deg, #7e7e7e, #7e7e7e 10px, #5c5c5c 10px, #5c5c5c 20px);\n",
       "    }\n",
       "    .progress-bar-interrupted, .progress-bar-interrupted::-webkit-progress-bar {\n",
       "        background: #F44336;\n",
       "    }\n",
       "</style>\n"
      ],
      "text/plain": [
       "<IPython.core.display.HTML object>"
      ]
     },
     "metadata": {},
     "output_type": "display_data"
    },
    {
     "data": {
      "text/html": [
       "\n",
       "    <div>\n",
       "      <progress value='16000' class='' max='16000' style='width:300px; height:20px; vertical-align: middle;'></progress>\n",
       "      100.00% [16000/16000 00:17&lt;00:00 Sampling 4 chains, 3 divergences]\n",
       "    </div>\n",
       "    "
      ],
      "text/plain": [
       "<IPython.core.display.HTML object>"
      ]
     },
     "metadata": {},
     "output_type": "display_data"
    },
    {
     "name": "stderr",
     "output_type": "stream",
     "text": [
      "Sampling 4 chains for 2_000 tune and 2_000 draw iterations (8_000 + 8_000 draws total) took 43 seconds.\n",
      "There were 3 divergences after tuning. Increase `target_accept` or reparameterize.\n",
      "Multiprocess sampling (4 chains in 4 jobs)\n",
      "CompoundStep\n",
      ">NUTS: [α, μ]\n",
      ">Metropolis: [y_pred]\n"
     ]
    },
    {
     "data": {
      "text/html": [
       "\n",
       "<style>\n",
       "    /* Turns off some styling */\n",
       "    progress {\n",
       "        /* gets rid of default border in Firefox and Opera. */\n",
       "        border: none;\n",
       "        /* Needs to be in here for Safari polyfill so background images work as expected. */\n",
       "        background-size: auto;\n",
       "    }\n",
       "    progress:not([value]), progress:not([value])::-webkit-progress-bar {\n",
       "        background: repeating-linear-gradient(45deg, #7e7e7e, #7e7e7e 10px, #5c5c5c 10px, #5c5c5c 20px);\n",
       "    }\n",
       "    .progress-bar-interrupted, .progress-bar-interrupted::-webkit-progress-bar {\n",
       "        background: #F44336;\n",
       "    }\n",
       "</style>\n"
      ],
      "text/plain": [
       "<IPython.core.display.HTML object>"
      ]
     },
     "metadata": {},
     "output_type": "display_data"
    },
    {
     "data": {
      "text/html": [
       "\n",
       "    <div>\n",
       "      <progress value='16000' class='' max='16000' style='width:300px; height:20px; vertical-align: middle;'></progress>\n",
       "      100.00% [16000/16000 00:14&lt;00:00 Sampling 4 chains, 5 divergences]\n",
       "    </div>\n",
       "    "
      ],
      "text/plain": [
       "<IPython.core.display.HTML object>"
      ]
     },
     "metadata": {},
     "output_type": "display_data"
    },
    {
     "name": "stderr",
     "output_type": "stream",
     "text": [
      "Sampling 4 chains for 2_000 tune and 2_000 draw iterations (8_000 + 8_000 draws total) took 39 seconds.\n",
      "There were 5 divergences after tuning. Increase `target_accept` or reparameterize.\n",
      "Multiprocess sampling (4 chains in 4 jobs)\n",
      "CompoundStep\n",
      ">NUTS: [α, μ]\n",
      ">Metropolis: [y_pred]\n"
     ]
    },
    {
     "data": {
      "text/html": [
       "\n",
       "<style>\n",
       "    /* Turns off some styling */\n",
       "    progress {\n",
       "        /* gets rid of default border in Firefox and Opera. */\n",
       "        border: none;\n",
       "        /* Needs to be in here for Safari polyfill so background images work as expected. */\n",
       "        background-size: auto;\n",
       "    }\n",
       "    progress:not([value]), progress:not([value])::-webkit-progress-bar {\n",
       "        background: repeating-linear-gradient(45deg, #7e7e7e, #7e7e7e 10px, #5c5c5c 10px, #5c5c5c 20px);\n",
       "    }\n",
       "    .progress-bar-interrupted, .progress-bar-interrupted::-webkit-progress-bar {\n",
       "        background: #F44336;\n",
       "    }\n",
       "</style>\n"
      ],
      "text/plain": [
       "<IPython.core.display.HTML object>"
      ]
     },
     "metadata": {},
     "output_type": "display_data"
    },
    {
     "data": {
      "text/html": [
       "\n",
       "    <div>\n",
       "      <progress value='16000' class='' max='16000' style='width:300px; height:20px; vertical-align: middle;'></progress>\n",
       "      100.00% [16000/16000 00:16&lt;00:00 Sampling 4 chains, 0 divergences]\n",
       "    </div>\n",
       "    "
      ],
      "text/plain": [
       "<IPython.core.display.HTML object>"
      ]
     },
     "metadata": {},
     "output_type": "display_data"
    },
    {
     "name": "stderr",
     "output_type": "stream",
     "text": [
      "Sampling 4 chains for 2_000 tune and 2_000 draw iterations (8_000 + 8_000 draws total) took 39 seconds.\n",
      "Multiprocess sampling (4 chains in 4 jobs)\n",
      "CompoundStep\n",
      ">NUTS: [α, μ]\n",
      ">Metropolis: [y_pred]\n"
     ]
    },
    {
     "data": {
      "text/html": [
       "\n",
       "<style>\n",
       "    /* Turns off some styling */\n",
       "    progress {\n",
       "        /* gets rid of default border in Firefox and Opera. */\n",
       "        border: none;\n",
       "        /* Needs to be in here for Safari polyfill so background images work as expected. */\n",
       "        background-size: auto;\n",
       "    }\n",
       "    progress:not([value]), progress:not([value])::-webkit-progress-bar {\n",
       "        background: repeating-linear-gradient(45deg, #7e7e7e, #7e7e7e 10px, #5c5c5c 10px, #5c5c5c 20px);\n",
       "    }\n",
       "    .progress-bar-interrupted, .progress-bar-interrupted::-webkit-progress-bar {\n",
       "        background: #F44336;\n",
       "    }\n",
       "</style>\n"
      ],
      "text/plain": [
       "<IPython.core.display.HTML object>"
      ]
     },
     "metadata": {},
     "output_type": "display_data"
    },
    {
     "data": {
      "text/html": [
       "\n",
       "    <div>\n",
       "      <progress value='16000' class='' max='16000' style='width:300px; height:20px; vertical-align: middle;'></progress>\n",
       "      100.00% [16000/16000 00:19&lt;00:00 Sampling 4 chains, 0 divergences]\n",
       "    </div>\n",
       "    "
      ],
      "text/plain": [
       "<IPython.core.display.HTML object>"
      ]
     },
     "metadata": {},
     "output_type": "display_data"
    },
    {
     "name": "stderr",
     "output_type": "stream",
     "text": [
      "Sampling 4 chains for 2_000 tune and 2_000 draw iterations (8_000 + 8_000 draws total) took 45 seconds.\n",
      "Multiprocess sampling (4 chains in 4 jobs)\n",
      "CompoundStep\n",
      ">NUTS: [α, μ]\n",
      ">Metropolis: [y_pred]\n"
     ]
    },
    {
     "data": {
      "text/html": [
       "\n",
       "<style>\n",
       "    /* Turns off some styling */\n",
       "    progress {\n",
       "        /* gets rid of default border in Firefox and Opera. */\n",
       "        border: none;\n",
       "        /* Needs to be in here for Safari polyfill so background images work as expected. */\n",
       "        background-size: auto;\n",
       "    }\n",
       "    progress:not([value]), progress:not([value])::-webkit-progress-bar {\n",
       "        background: repeating-linear-gradient(45deg, #7e7e7e, #7e7e7e 10px, #5c5c5c 10px, #5c5c5c 20px);\n",
       "    }\n",
       "    .progress-bar-interrupted, .progress-bar-interrupted::-webkit-progress-bar {\n",
       "        background: #F44336;\n",
       "    }\n",
       "</style>\n"
      ],
      "text/plain": [
       "<IPython.core.display.HTML object>"
      ]
     },
     "metadata": {},
     "output_type": "display_data"
    },
    {
     "data": {
      "text/html": [
       "\n",
       "    <div>\n",
       "      <progress value='16000' class='' max='16000' style='width:300px; height:20px; vertical-align: middle;'></progress>\n",
       "      100.00% [16000/16000 00:21&lt;00:00 Sampling 4 chains, 3 divergences]\n",
       "    </div>\n",
       "    "
      ],
      "text/plain": [
       "<IPython.core.display.HTML object>"
      ]
     },
     "metadata": {},
     "output_type": "display_data"
    },
    {
     "name": "stderr",
     "output_type": "stream",
     "text": [
      "Sampling 4 chains for 2_000 tune and 2_000 draw iterations (8_000 + 8_000 draws total) took 47 seconds.\n",
      "There were 3 divergences after tuning. Increase `target_accept` or reparameterize.\n",
      "Multiprocess sampling (4 chains in 4 jobs)\n",
      "CompoundStep\n",
      ">NUTS: [α, μ]\n",
      ">Metropolis: [y_pred]\n"
     ]
    },
    {
     "data": {
      "text/html": [
       "\n",
       "<style>\n",
       "    /* Turns off some styling */\n",
       "    progress {\n",
       "        /* gets rid of default border in Firefox and Opera. */\n",
       "        border: none;\n",
       "        /* Needs to be in here for Safari polyfill so background images work as expected. */\n",
       "        background-size: auto;\n",
       "    }\n",
       "    progress:not([value]), progress:not([value])::-webkit-progress-bar {\n",
       "        background: repeating-linear-gradient(45deg, #7e7e7e, #7e7e7e 10px, #5c5c5c 10px, #5c5c5c 20px);\n",
       "    }\n",
       "    .progress-bar-interrupted, .progress-bar-interrupted::-webkit-progress-bar {\n",
       "        background: #F44336;\n",
       "    }\n",
       "</style>\n"
      ],
      "text/plain": [
       "<IPython.core.display.HTML object>"
      ]
     },
     "metadata": {},
     "output_type": "display_data"
    },
    {
     "data": {
      "text/html": [
       "\n",
       "    <div>\n",
       "      <progress value='16000' class='' max='16000' style='width:300px; height:20px; vertical-align: middle;'></progress>\n",
       "      100.00% [16000/16000 00:13&lt;00:00 Sampling 4 chains, 0 divergences]\n",
       "    </div>\n",
       "    "
      ],
      "text/plain": [
       "<IPython.core.display.HTML object>"
      ]
     },
     "metadata": {},
     "output_type": "display_data"
    },
    {
     "name": "stderr",
     "output_type": "stream",
     "text": [
      "Sampling 4 chains for 2_000 tune and 2_000 draw iterations (8_000 + 8_000 draws total) took 37 seconds.\n"
     ]
    }
   ],
   "source": [
    "\n",
    "# Retain only rows with values in 'negativereason_confidence' and 'airline'\n",
    "df = df[(df['negativereason_confidence'].notnull()) & (df['airline'].notnull())]\n",
    "\n",
    "# Convert categorical variables to integer\n",
    "le_airline = preprocessing.LabelEncoder()\n",
    "airlines_idx = le_airline.fit_transform(df['airline'])\n",
    "airlines = le_airline.classes_\n",
    "n_airlines = len(airlines)\n",
    "\n",
    "indiv_traces = {}\n",
    "\n",
    "for p in airlines:\n",
    "    with pm.Model() as model_h:\n",
    "        α = pm.Uniform('α', lower=0, upper=100)\n",
    "        μ = pm.Uniform('μ', lower=0, upper=60)\n",
    "        \n",
    "        data = df[df['airline'] == p]['negativereason_confidence']\n",
    " \n",
    "        y_est = pm.NegativeBinomial('y_est', mu=μ, alpha=α, observed=data)\n",
    "        y_pred = pm.NegativeBinomial('y_pred', mu=μ, alpha=α)\n",
    "        trace_h = pm.sample(2000, tune=2000)\n",
    "        indiv_traces[p] = trace_h"
   ]
  },
  {
   "cell_type": "code",
   "execution_count": 95,
   "id": "fe409e4e-fcb7-4911-bf6e-785b06cda9b6",
   "metadata": {},
   "outputs": [
    {
     "data": {
      "text/plain": [
       "array(['American', 'Delta', 'Southwest', 'US Airways', 'United',\n",
       "       'Virgin America'], dtype=object)"
      ]
     },
     "execution_count": 95,
     "metadata": {},
     "output_type": "execute_result"
    }
   ],
   "source": [
    "airlines"
   ]
  },
  {
   "cell_type": "code",
   "execution_count": 96,
   "id": "c10d8ec3-4e26-435f-953f-3e970f16a6f6",
   "metadata": {},
   "outputs": [
    {
     "ename": "AttributeError",
     "evalue": "'InferenceData' object has no attribute 'get_values'",
     "output_type": "error",
     "traceback": [
      "\u001b[1;31m---------------------------------------------------------------------------\u001b[0m",
      "\u001b[1;31mAttributeError\u001b[0m                            Traceback (most recent call last)",
      "Cell \u001b[1;32mIn[96], line 16\u001b[0m\n\u001b[0;32m     14\u001b[0m \u001b[38;5;28;01mfor\u001b[39;00m i, j, p \u001b[38;5;129;01min\u001b[39;00m \u001b[38;5;28mzip\u001b[39m([\u001b[38;5;241m0\u001b[39m, \u001b[38;5;241m1\u001b[39m, \u001b[38;5;241m2\u001b[39m], [\u001b[38;5;241m1\u001b[39m, \u001b[38;5;241m3\u001b[39m, \u001b[38;5;241m5\u001b[39m], airlines[ix]):\n\u001b[0;32m     15\u001b[0m     axs[j]\u001b[38;5;241m.\u001b[39mset_title(\u001b[38;5;124m'\u001b[39m\u001b[38;5;124mPosterior predictive distribution: \u001b[39m\u001b[38;5;132;01m%s\u001b[39;00m\u001b[38;5;124m'\u001b[39m \u001b[38;5;241m%\u001b[39m p)\n\u001b[1;32m---> 16\u001b[0m     axs[j]\u001b[38;5;241m.\u001b[39mhist(\u001b[43mindiv_traces\u001b[49m\u001b[43m[\u001b[49m\u001b[43mp\u001b[49m\u001b[43m]\u001b[49m\u001b[38;5;241;43m.\u001b[39;49m\u001b[43mget_values\u001b[49m(\u001b[38;5;124m'\u001b[39m\u001b[38;5;124my_pred\u001b[39m\u001b[38;5;124m'\u001b[39m), \u001b[38;5;28mrange\u001b[39m\u001b[38;5;241m=\u001b[39m[\u001b[38;5;241m0\u001b[39m, x_lim], bins\u001b[38;5;241m=\u001b[39mx_lim, histtype\u001b[38;5;241m=\u001b[39m\u001b[38;5;124m'\u001b[39m\u001b[38;5;124mstepfilled\u001b[39m\u001b[38;5;124m'\u001b[39m,\n\u001b[0;32m     17\u001b[0m                 color\u001b[38;5;241m=\u001b[39mcolors[\u001b[38;5;241m1\u001b[39m])\n\u001b[0;32m     18\u001b[0m     axs[j]\u001b[38;5;241m.\u001b[39mset_ylim([\u001b[38;5;241m0\u001b[39m, y_right_max])\n\u001b[0;32m     20\u001b[0m axs[\u001b[38;5;241m4\u001b[39m]\u001b[38;5;241m.\u001b[39mset_xlabel(\u001b[38;5;124m'\u001b[39m\u001b[38;5;124mNegative Reason Confidence\u001b[39m\u001b[38;5;124m'\u001b[39m)\n",
      "\u001b[1;31mAttributeError\u001b[0m: 'InferenceData' object has no attribute 'get_values'"
     ]
    },
    {
     "data": {
      "image/png": "[encoded data removed]",
      "text/plain": [
       "<Figure size 1200x600 with 6 Axes>"
      ]
     },
     "metadata": {},
     "output_type": "display_data"
    }
   ],
   "source": [
    "fig, axs = plt.subplots(3, 2, figsize=(12, 6))\n",
    "axs = axs.ravel()\n",
    "y_left_max = 1000\n",
    "y_right_max = 1000\n",
    "x_lim = 60\n",
    "ix = [0, 1, 2]\n",
    "\n",
    "for i, j, p in zip([0, 1, 2], [0, 2, 4], airlines[ix]):\n",
    "    axs[j].set_title('Observed: %s' % p)\n",
    "    axs[j].hist(df[df['airline'] == p]['negativereason_confidence'].values, range=[0, x_lim], bins=x_lim,\n",
    "                histtype='stepfilled')\n",
    "    axs[j].set_ylim([0, y_left_max])\n",
    "\n",
    "for i, j, p in zip([0, 1, 2], [1, 3, 5], airlines[ix]):\n",
    "    axs[j].set_title('Posterior predictive distribution: %s' % p)\n",
    "    axs[j].hist(indiv_traces[p].posterior['y_pred'].values, range=[0, x_lim], bins=x_lim, histtype='stepfilled',\n",
    "                color=colors[1])\n",
    "    axs[j].set_ylim([0, y_right_max])\n",
    "\n",
    "axs[4].set_xlabel('Negative Reason Confidence')\n",
    "axs[5].set_xlabel('Negative Reason Confidence')\n",
    "\n",
    "plt.tight_layout()\n"
   ]
  },
  {
   "cell_type": "code",
   "execution_count": 63,
   "id": "bca137c6",
   "metadata": {},
   "outputs": [
    {
     "ename": "KeyError",
     "evalue": "'intercept'",
     "output_type": "error",
     "traceback": [
      "\u001b[1;31m---------------------------------------------------------------------------\u001b[0m",
      "\u001b[1;31mKeyError\u001b[0m                                  Traceback (most recent call last)",
      "Cell \u001b[1;32mIn[63], line 15\u001b[0m\n\u001b[0;32m     11\u001b[0m axs[i, \u001b[38;5;241m0\u001b[39m]\u001b[38;5;241m.\u001b[39mset_title(\u001b[38;5;124mf\u001b[39m\u001b[38;5;124m'\u001b[39m\u001b[38;5;124mObserved \u001b[39m\u001b[38;5;132;01m{\u001b[39;00mairline\u001b[38;5;132;01m}\u001b[39;00m\u001b[38;5;124m Confidence\u001b[39m\u001b[38;5;124m'\u001b[39m)\n\u001b[0;32m     13\u001b[0m \u001b[38;5;66;03m# Posterior predictive distribution\u001b[39;00m\n\u001b[0;32m     14\u001b[0m mu_posterior \u001b[38;5;241m=\u001b[39m np\u001b[38;5;241m.\u001b[39mexp(\n\u001b[1;32m---> 15\u001b[0m     \u001b[43mtrace\u001b[49m\u001b[43m[\u001b[49m\u001b[38;5;124;43m'\u001b[39;49m\u001b[38;5;124;43mintercept\u001b[39;49m\u001b[38;5;124;43m'\u001b[39;49m\u001b[43m]\u001b[49m \u001b[38;5;241m+\u001b[39m trace[\u001b[38;5;124m'\u001b[39m\u001b[38;5;124mcoef_airline\u001b[39m\u001b[38;5;124m'\u001b[39m][:, idx] \u001b[38;5;241m+\u001b[39m trace[\u001b[38;5;124m'\u001b[39m\u001b[38;5;124mcoef_retweet\u001b[39m\u001b[38;5;124m'\u001b[39m] \u001b[38;5;241m*\u001b[39m df[df[\u001b[38;5;124m'\u001b[39m\u001b[38;5;124mairline\u001b[39m\u001b[38;5;124m'\u001b[39m] \u001b[38;5;241m==\u001b[39m airline][\u001b[38;5;124m'\u001b[39m\u001b[38;5;124mretweet_count\u001b[39m\u001b[38;5;124m'\u001b[39m]\u001b[38;5;241m.\u001b[39mmean()\n\u001b[0;32m     16\u001b[0m )\n\u001b[0;32m     17\u001b[0m posterior_samples \u001b[38;5;241m=\u001b[39m np\u001b[38;5;241m.\u001b[39mrandom\u001b[38;5;241m.\u001b[39mpoisson(mu_posterior, size\u001b[38;5;241m=\u001b[39m\u001b[38;5;28mlen\u001b[39m(trace))\n\u001b[0;32m     19\u001b[0m axs[i, \u001b[38;5;241m1\u001b[39m]\u001b[38;5;241m.\u001b[39mhist(posterior_samples\u001b[38;5;241m.\u001b[39mflatten(), bins\u001b[38;5;241m=\u001b[39m\u001b[38;5;241m30\u001b[39m, alpha\u001b[38;5;241m=\u001b[39m\u001b[38;5;241m0.7\u001b[39m, label\u001b[38;5;241m=\u001b[39m\u001b[38;5;124m'\u001b[39m\u001b[38;5;124mPosterior Predictive\u001b[39m\u001b[38;5;124m'\u001b[39m)\n",
      "File \u001b[1;32m~\\.conda\\envs\\pymc_env1\\Lib\\site-packages\\arviz\\data\\inference_data.py:263\u001b[0m, in \u001b[0;36mInferenceData.__getitem__\u001b[1;34m(self, key)\u001b[0m\n\u001b[0;32m    261\u001b[0m \u001b[38;5;250m\u001b[39m\u001b[38;5;124;03m\"\"\"Get item by key.\"\"\"\u001b[39;00m\n\u001b[0;32m    262\u001b[0m \u001b[38;5;28;01mif\u001b[39;00m key \u001b[38;5;129;01mnot\u001b[39;00m \u001b[38;5;129;01min\u001b[39;00m \u001b[38;5;28mself\u001b[39m\u001b[38;5;241m.\u001b[39m_groups_all:\n\u001b[1;32m--> 263\u001b[0m     \u001b[38;5;28;01mraise\u001b[39;00m \u001b[38;5;167;01mKeyError\u001b[39;00m(key)\n\u001b[0;32m    264\u001b[0m \u001b[38;5;28;01mreturn\u001b[39;00m \u001b[38;5;28mgetattr\u001b[39m(\u001b[38;5;28mself\u001b[39m, key)\n",
      "\u001b[1;31mKeyError\u001b[0m: 'intercept'"
     ]
    },
    {
     "data": {
      "image/png": "[encoded data removed]",
      "text/plain": [
       "<Figure size 1200x1200 with 12 Axes>"
      ]
     },
     "metadata": {},
     "output_type": "display_data"
    }
   ],
   "source": [
    "# Extract airline names and indices\n",
    "airlines = label_encoder.classes_\n",
    "airline_indices = label_encoder.transform(airlines)\n",
    "\n",
    "# Plotting observed vs posterior predictive distribution for airline_confidence\n",
    "fig, axs = plt.subplots(len(airlines), 2, figsize=(12, 2 * len(airlines)), sharex=True)\n",
    "\n",
    "for i, (airline, idx) in enumerate(zip(airlines, airline_indices)):\n",
    "    # Observed airline_confidence\n",
    "    axs[i, 0].hist(df[df['airline'] == airline]['negativereason_confidence'], bins=30, alpha=0.7, label='Observed')\n",
    "    axs[i, 0].set_title(f'Observed {airline} Confidence')\n",
    "    \n",
    "    # Posterior predictive distribution\n",
    "    mu_posterior = np.exp(\n",
    "        trace['intercept'] + trace['coef_airline'][:, idx] + trace['coef_retweet'] * df[df['airline'] == airline]['retweet_count'].mean()\n",
    "    )\n",
    "    posterior_samples = np.random.poisson(mu_posterior, size=len(trace))\n",
    "    \n",
    "    axs[i, 1].hist(posterior_samples.flatten(), bins=30, alpha=0.7, label='Posterior Predictive')\n",
    "    axs[i, 1].set_title(f'Posterior Predictive {airline} Confidence')\n",
    "\n",
    "    axs[i, 0].legend()\n",
    "    axs[i, 1].legend()\n",
    "\n",
    "plt.tight_layout()\n",
    "plt.show()"
   ]
  },
  {
   "cell_type": "code",
   "execution_count": null,
   "id": "785b309b-1959-4fff-a14f-538e008ec583",
   "metadata": {},
   "outputs": [],
   "source": []
  }
 ],
 "metadata": {
  "kernelspec": {
   "display_name": "Python 3 (ipykernel)",
   "language": "python",
   "name": "python3"
  },
  "language_info": {
   "codemirror_mode": {
    "name": "ipython",
    "version": 3
   },
   "file_extension": ".py",
   "mimetype": "text/x-python",
   "name": "python",
   "nbconvert_exporter": "python",
   "pygments_lexer": "ipython3",
   "version": "3.11.8"
  }
 },
 "nbformat": 4,
 "nbformat_minor": 5
}
